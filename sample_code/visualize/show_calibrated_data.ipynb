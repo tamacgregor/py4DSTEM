{
 "cells": [
  {
   "cell_type": "markdown",
   "id": "healthy-bryan",
   "metadata": {},
   "source": [
    "# Show with calibations\n",
    "\n",
    "\n",
    "## Data\n",
    "This notebook uses a simulated 4D-STEM dataset.  Simulations were performed by Colin Ophus, have DOI number 10.5281/zenodo.3592520, and can be [downloaded here](https://drive.google.com/file/d/1QiH7phMR0AaMkYoio3uhgTTQMOHG4l6b/view?usp=sharing).  \n",
    "You should then set the `filepath` variable in the cell below.\n",
    "\n",
    "It also uses a set of calibrations which can be generated using the notebook sample_code/strain_crystalline/calibrate.ipynb, or which can be [downloaded here](https://drive.google.com/file/d/1KQiR_LMx8hfwLxORtK8ykNDL9m5kepsG/view?usp=sharing).\n",
    "\n",
    "### Versioning\n",
    "\n",
    "Last updated on 2021-04-23 with py4DSTEM v.0.12.0."
   ]
  },
  {
   "cell_type": "code",
   "execution_count": null,
   "id": "dying-spoke",
   "metadata": {},
   "outputs": [],
   "source": [
    "import py4DSTEM\n",
    "import py4DSTEM.visualize as vis\n",
    "import matplotlib.pyplot as plt\n",
    "import numpy as np"
   ]
  },
  {
   "cell_type": "code",
   "execution_count": null,
   "id": "removable-shower",
   "metadata": {},
   "outputs": [],
   "source": [
    "# Load data\n",
    "\n",
    "filepath_data = \"/media/AuxDriveB/Data/4DSTEM_SampleData/py4DSTEM_sample_data/calibrationData_simulatedAuNanoplatelet_binned.h5\"\n",
    "py4DSTEM.io.read(filepath_data)\n",
    "datacube = py4DSTEM.io.read(filepath_data,data_id='polyAu_4DSTEM')\n",
    "\n",
    "print('')\n",
    "\n",
    "filepath_calibrations = \"/media/AuxDriveB/Data/4DSTEM_SampleData/py4DSTEM_sample_data/calibrationData_simulatedAuNanoplatelet_binned_processing.h5\"\n",
    "py4DSTEM.io.read(filepath_calibrations)\n",
    "coordinates = py4DSTEM.io.read(filepath_calibrations,data_id='coordinates_calibrationdata')"
   ]
  },
  {
   "cell_type": "markdown",
   "id": "chinese-factor",
   "metadata": {},
   "source": [
    "## Scalebars"
   ]
  },
  {
   "cell_type": "code",
   "execution_count": null,
   "id": "mediterranean-smart",
   "metadata": {},
   "outputs": [],
   "source": [
    "R = 10\n",
    "dp_max = np.max(datacube.data,axis=(0,1))\n",
    "vis.show(dp_max,scaling='log',figsize=(6,6))"
   ]
  },
  {
   "cell_type": "code",
   "execution_count": null,
   "id": "responsible-priest",
   "metadata": {},
   "outputs": [],
   "source": [
    "vis.show(dp_max,scaling='log',figsize=(6,6),scalebar={},\n",
    "         coordinates=coordinates)"
   ]
  },
  {
   "cell_type": "code",
   "execution_count": null,
   "id": "lined-crystal",
   "metadata": {},
   "outputs": [],
   "source": [
    "coordinates.set_Q_pixel_size(0.02)\n",
    "coordinates.set_Q_pixel_units(r'A$^{-1}$')\n",
    "vis.show(dp_max,scaling='log',figsize=(6,6),scalebar={},\n",
    "         coordinates=coordinates)"
   ]
  },
  {
   "cell_type": "code",
   "execution_count": null,
   "id": "handled-forth",
   "metadata": {},
   "outputs": [],
   "source": [
    "vis.show(dp_max,scaling='log',figsize=(6,6),coordinates=coordinates,\n",
    "         scalebar={'length':.5,\n",
    "                   'width':4,\n",
    "                   'color':'y',\n",
    "                   'position':'ul',\n",
    "                   'label':True,\n",
    "                   'labelsize':14,\n",
    "                   'labelcolor':'y',\n",
    "                   'alpha':0.6,\n",
    "                   'ticks':True})"
   ]
  },
  {
   "cell_type": "code",
   "execution_count": null,
   "id": "close-angle",
   "metadata": {},
   "outputs": [],
   "source": [
    "R = 10\n",
    "qx0,qy0 = np.mean(coordinates.get_qx0()),np.mean(coordinates.get_qy0())\n",
    "dp_max = np.max(datacube.data,axis=(0,1))\n",
    "vis.show(dp_max,scaling='log',figsize=(4,4),\n",
    "         circle={'center':(qx0,qy0),'R':R,'fill':True,'alpha':0.3})\n",
    "BF = py4DSTEM.process.virtualimage.get_virtualimage_circ(datacube,qx0,qy0,R)\n",
    "vis.show(BF,figsize=(6,5))"
   ]
  },
  {
   "cell_type": "code",
   "execution_count": null,
   "id": "boolean-municipality",
   "metadata": {},
   "outputs": [],
   "source": [
    "vis.show(BF,figsize=(6,5),scalebar={})\n",
    "vis.show(BF,figsize=(6,5),scalebar={'labelsize':10,'color':'k'})"
   ]
  },
  {
   "cell_type": "code",
   "execution_count": null,
   "id": "great-flesh",
   "metadata": {},
   "outputs": [],
   "source": [
    "coordinates.set_R_pixel_size(0.5)\n",
    "coordinates.set_R_pixel_units('nm')\n",
    "vis.show(BF,figsize=(6,5),coordinates=coordinates,space='R',scalebar={})\n",
    "vis.show(BF,figsize=(6,5),coordinates=coordinates,space='R',scalebar={'labelsize':12,'color':'k'})"
   ]
  },
  {
   "cell_type": "code",
   "execution_count": null,
   "id": "mechanical-assist",
   "metadata": {},
   "outputs": [],
   "source": []
  },
  {
   "cell_type": "markdown",
   "id": "recovered-allowance",
   "metadata": {},
   "source": [
    "## Cartesian coordinate grid"
   ]
  },
  {
   "cell_type": "code",
   "execution_count": null,
   "id": "paperback-ordinance",
   "metadata": {},
   "outputs": [],
   "source": [
    "rx,ry=0,0\n",
    "dp = datacube.data[rx,ry,:,:]"
   ]
  },
  {
   "cell_type": "code",
   "execution_count": null,
   "id": "exceptional-bacteria",
   "metadata": {},
   "outputs": [],
   "source": [
    "vis.show(dp,scaling='log',figsize=(6,6),\n",
    "         cartesian_grid={})"
   ]
  },
  {
   "cell_type": "code",
   "execution_count": null,
   "id": "broad-adventure",
   "metadata": {},
   "outputs": [],
   "source": [
    "vis.show(dp,scaling='log',figsize=(6,6),\n",
    "         cartesian_grid={'label':True})"
   ]
  },
  {
   "cell_type": "code",
   "execution_count": null,
   "id": "willing-multiple",
   "metadata": {},
   "outputs": [],
   "source": [
    "vis.show(dp,scaling='log',figsize=(6,6),\n",
    "         cartesian_grid={'label':True},\n",
    "         coordinates=coordinates,rx=rx,ry=ry)"
   ]
  },
  {
   "cell_type": "code",
   "execution_count": null,
   "id": "cleared-immunology",
   "metadata": {},
   "outputs": [],
   "source": [
    "rx1,ry1=0,0\n",
    "rx2,ry2=99,83\n",
    "dp1,dp2 = datacube.data[rx1,ry1,:,:],datacube.data[rx2,ry2,:,:]\n",
    "\n",
    "fig,(ax1,ax2) = plt.subplots(1,2,figsize=(12,6))\n",
    "\n",
    "vis.show(dp1,scaling='log',figax=(fig,ax1),cartesian_grid={},\n",
    "         coordinates=coordinates,rx=rx1,ry=ry1)\n",
    "vis.show(dp2,scaling='log',figax=(fig,ax2),cartesian_grid={},\n",
    "         coordinates=coordinates,rx=rx2,ry=ry2)\n",
    "\n",
    "plt.show()"
   ]
  },
  {
   "cell_type": "code",
   "execution_count": null,
   "id": "empty-falls",
   "metadata": {},
   "outputs": [],
   "source": [
    "vis.show(dp,scaling='log',figsize=(6,6),\n",
    "         cartesian_grid={'label':True},\n",
    "         x0=50,y0=50)"
   ]
  },
  {
   "cell_type": "code",
   "execution_count": null,
   "id": "phantom-spain",
   "metadata": {},
   "outputs": [],
   "source": [
    "coordinates.set_Q_pixel_size(0.2)\n",
    "coordinates.set_Q_pixel_units(r'A$^{-1}$')"
   ]
  },
  {
   "cell_type": "code",
   "execution_count": null,
   "id": "bridal-roommate",
   "metadata": {},
   "outputs": [],
   "source": [
    "vis.show(dp,scaling='log',figsize=(6,6),\n",
    "         cartesian_grid={'label':True},coordinates=coordinates,rx=rx,ry=ry)"
   ]
  },
  {
   "cell_type": "code",
   "execution_count": null,
   "id": "swiss-antarctica",
   "metadata": {},
   "outputs": [],
   "source": [
    "vis.show(dp,scaling='log',figsize=(6,6),\n",
    "         cartesian_grid={'spacing':2,\n",
    "                         'lw':0.5,\n",
    "                         'ls':'--',\n",
    "                         'color':'y',\n",
    "                         'label':True,\n",
    "                         'labelsize':8,\n",
    "                         'labelcolor':'r',\n",
    "                         'alpha':0.6},\n",
    "         coordinates=coordinates,rx=rx,ry=ry)"
   ]
  },
  {
   "cell_type": "code",
   "execution_count": null,
   "id": "boxed-headquarters",
   "metadata": {},
   "outputs": [],
   "source": [
    "R = 10\n",
    "qx0,qy0 = np.mean(coordinates.get_qx0()),np.mean(coordinates.get_qy0())\n",
    "dp_max = np.max(datacube.data,axis=(0,1))\n",
    "vis.show(dp_max,scaling='log',figsize=(4,4),\n",
    "         circle={'center':(qx0,qy0),'R':R,'fill':True,'alpha':0.3})\n",
    "BF = py4DSTEM.process.virtualimage.get_virtualimage_circ(datacube,qx0,qy0,R)\n",
    "vis.show(BF,figsize=(6,5))"
   ]
  },
  {
   "cell_type": "code",
   "execution_count": null,
   "id": "greater-evanescence",
   "metadata": {},
   "outputs": [],
   "source": [
    "vis.show(BF,figsize=(6,5),cartesian_grid={})\n",
    "vis.show(BF,figsize=(6,5),cartesian_grid={'alpha':0.7,'color':'k'})"
   ]
  },
  {
   "cell_type": "code",
   "execution_count": null,
   "id": "located-retail",
   "metadata": {},
   "outputs": [],
   "source": [
    "coordinates.set_R_pixel_size(0.5)\n",
    "coordinates.set_R_pixel_units('nm')"
   ]
  },
  {
   "cell_type": "code",
   "execution_count": null,
   "id": "knowing-duration",
   "metadata": {},
   "outputs": [],
   "source": [
    "vis.show(BF,figsize=(6,5),cartesian_grid={'label':True,'alpha':0.7,'color':'k'},\n",
    "                          space='R')\n",
    "vis.show(BF,figsize=(6,5),cartesian_grid={'label':True,'alpha':0.7,'color':'k'},\n",
    "                          space='R',coordinates=coordinates)\n",
    "vis.show(BF,figsize=(6,5),cartesian_grid={'label':True,'alpha':0.7,'color':'k'},\n",
    "                          space='R',pixelsize=5,pixelunits=\"A\")"
   ]
  },
  {
   "cell_type": "markdown",
   "id": "basic-darkness",
   "metadata": {},
   "source": [
    "## Polar-elliptical coordinates"
   ]
  },
  {
   "cell_type": "code",
   "execution_count": null,
   "id": "weird-updating",
   "metadata": {},
   "outputs": [],
   "source": [
    "R = 10\n",
    "qx0,qy0 = np.mean(coordinates.get_qx0()),np.mean(coordinates.get_qy0())\n",
    "dp_max = np.max(datacube.data,axis=(0,1))\n",
    "Q_Nx,Q_Ny = dp_max.shape\n",
    "vis.show(dp_max,scaling='log',figsize=(6,6))"
   ]
  },
  {
   "cell_type": "code",
   "execution_count": null,
   "id": "important-military",
   "metadata": {},
   "outputs": [],
   "source": [
    "vis.show(dp_max,scaling='log',figsize=(6,6),polarelliptical_grid={},\n",
    "         coordinates=coordinates,x0=qx0,y0=qy0)"
   ]
  },
  {
   "cell_type": "code",
   "execution_count": null,
   "id": "distant-insight",
   "metadata": {},
   "outputs": [],
   "source": [
    "vis.show(dp_max,scaling='log',figsize=(6,6),\n",
    "         polarelliptical_grid={'label':True},\n",
    "         coordinates=coordinates,x0=qx0,y0=qy0)"
   ]
  },
  {
   "cell_type": "code",
   "execution_count": null,
   "id": "greater-category",
   "metadata": {},
   "outputs": [],
   "source": [
    "vis.show(dp_max,scaling='log',figsize=(6,6),\n",
    "         polarelliptical_grid={'label':True,\n",
    "                               'color':'#e8d5d3',\n",
    "                               'alpha':0.7,\n",
    "                               'ls':'-.',\n",
    "                               'lw':0.5,\n",
    "                               'labelsize':12,\n",
    "                               'spacing':5,\n",
    "                               'N_thetalines':16},\n",
    "         coordinates=coordinates,x0=qx0,y0=qy0)"
   ]
  },
  {
   "cell_type": "code",
   "execution_count": null,
   "id": "informational-sentence",
   "metadata": {},
   "outputs": [],
   "source": []
  },
  {
   "cell_type": "code",
   "execution_count": null,
   "id": "funky-split",
   "metadata": {},
   "outputs": [],
   "source": []
  }
 ],
 "metadata": {
  "kernelspec": {
   "display_name": "Python 3",
   "language": "python",
   "name": "python3"
  },
  "language_info": {
   "codemirror_mode": {
    "name": "ipython",
    "version": 3
   },
   "file_extension": ".py",
   "mimetype": "text/x-python",
   "name": "python",
   "nbconvert_exporter": "python",
   "pygments_lexer": "ipython3",
   "version": "3.8.5"
  }
 },
 "nbformat": 4,
 "nbformat_minor": 5
}
