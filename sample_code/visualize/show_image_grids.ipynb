{
 "cells": [
  {
   "cell_type": "markdown",
   "id": "healthy-bryan",
   "metadata": {},
   "source": [
    "# Show a grid of images\n",
    "\n",
    "A tutorial for displaying many images together.\n",
    "\n",
    "### Versioning\n",
    "\n",
    "Last updated on 2021-04-23 with py4DSTEM v.0.12.0."
   ]
  },
  {
   "cell_type": "code",
   "execution_count": null,
   "id": "norman-state",
   "metadata": {},
   "outputs": [],
   "source": [
    "import py4DSTEM.visualize as vis\n",
    "import matplotlib.pyplot as plt\n",
    "import numpy as np"
   ]
  },
  {
   "cell_type": "code",
   "execution_count": null,
   "id": "radical-thanksgiving",
   "metadata": {},
   "outputs": [],
   "source": [
    "# Generate sample data\n",
    "R_Nx,R_Ny = 128,256\n",
    "ryy,rxx = np.meshgrid(np.arange(R_Ny),np.arange(R_Nx))\n",
    "ims = np.empty((R_Nx,R_Ny,10))\n",
    "for i in range(10):\n",
    "    ims[:,:,i] = (np.cos(2*np.pi*ryy*4*i/R_Ny)*np.sin(2*np.pi*i*rxx/R_Nx))**2+0.01"
   ]
  },
  {
   "cell_type": "code",
   "execution_count": null,
   "id": "beginning-journalist",
   "metadata": {},
   "outputs": [],
   "source": [
    "vis.show_image_grid(get_ar=lambda i:ims[:,:,i],H=5,W=2,axsize=(5,2.5))"
   ]
  },
  {
   "cell_type": "code",
   "execution_count": null,
   "id": "graphic-jenny",
   "metadata": {},
   "outputs": [],
   "source": [
    "# These functions accept some other function which returns images.\n",
    "# Python's lambda syntax is not necessary, but can help keep your code tighter.\n",
    "def f(x): return x+1\n",
    "g = lambda x:x+1\n",
    "assert f(1)==g(1)"
   ]
  },
  {
   "cell_type": "code",
   "execution_count": null,
   "id": "developed-remove",
   "metadata": {},
   "outputs": [],
   "source": [
    "vis.show_image_grid(get_ar=lambda i:ims[:,:,i+1],H=3,W=2,axsize=(5,2.5),\n",
    "                    get_bordercolor=lambda i:('r','g','b','y','pink','#1e9096')[i])"
   ]
  },
  {
   "cell_type": "code",
   "execution_count": null,
   "id": "saving-hypothesis",
   "metadata": {},
   "outputs": [],
   "source": [
    "from py4DSTEM.process.utils import get_maxima_2D\n",
    "colors=('r','g','b','y','pink','#1e9096')\n",
    "vis.show_image_grid(get_ar=lambda i:ims[:,:,i+1],H=3,W=2,axsize=(5,2.5),\n",
    "                    get_bordercolor=lambda i:colors[i],\n",
    "                    get_x=lambda i:get_maxima_2D(ims[:,:,i+1])[0],\n",
    "                    get_y=lambda i:get_maxima_2D(ims[:,:,i+1])[1],\n",
    "                    get_pointcolors=lambda i:colors[i],\n",
    "                    get_s=lambda i:np.sin(np.arange(len(get_maxima_2D(ims[:,:,i+1])[0]))),\n",
    "                    scale=200)"
   ]
  },
  {
   "cell_type": "code",
   "execution_count": null,
   "id": "nearby-richmond",
   "metadata": {},
   "outputs": [],
   "source": []
  },
  {
   "cell_type": "markdown",
   "id": "affiliated-clear",
   "metadata": {},
   "source": [
    "## Show a grid of diffraction patterns\n",
    "\n",
    "The dataset used below can be [downloaded here](https://drive.google.com/file/d/1B-xX3F65JcWzAg0v7f1aVwnawPIfb5_o/view?usp=sharing)."
   ]
  },
  {
   "cell_type": "code",
   "execution_count": null,
   "id": "communist-mineral",
   "metadata": {},
   "outputs": [],
   "source": [
    "filepath_sample4ddata = \"/media/AuxDriveB/Data/4DSTEM_SampleData/SteveZeltmann_SmallDatasets_20180830/1_10x10 ss=100 alpha=p48 spot 11 cl=1200 300kV RT bin=4 0p5sec.dm3\"\n",
    "datacube = py4DSTEM.io.read(filepath_sample4ddata)\n",
    "datacube.set_scan_shape(10,10)\n",
    "BF_image = py4DSTEM.process.virtualimage.get_virtualimage_circ(datacube,240,270,60)"
   ]
  },
  {
   "cell_type": "code",
   "execution_count": null,
   "id": "olive-hazard",
   "metadata": {},
   "outputs": [],
   "source": [
    "vis.show_selected_dp(datacube,BF_image,rx=5,ry=8)"
   ]
  },
  {
   "cell_type": "code",
   "execution_count": null,
   "id": "relevant-target",
   "metadata": {},
   "outputs": [],
   "source": [
    "x0,y0 = 3,2     # upper left corner\n",
    "xL,yL = 3,4     # side lengths\n",
    "vis.show_grid_overlay(BF_image,x0,y0,xL,yL,linewidth=4)\n",
    "vis.show_DP_grid(datacube,x0,y0,xL,yL,axsize=(3,3),scaling='log',bordercolor='k')"
   ]
  },
  {
   "cell_type": "code",
   "execution_count": null,
   "id": "white-planet",
   "metadata": {},
   "outputs": [],
   "source": [
    "vis.show_DP_grid(datacube,0,0,datacube.R_Nx,datacube.R_Ny,axsize=(2,2),scaling='log',bordercolor='k',borderwidth=0.5)"
   ]
  },
  {
   "cell_type": "code",
   "execution_count": null,
   "id": "fleet-transformation",
   "metadata": {},
   "outputs": [],
   "source": []
  },
  {
   "cell_type": "markdown",
   "id": "rotary-desire",
   "metadata": {},
   "source": [
    "## Plot real and reciprocal space together"
   ]
  },
  {
   "cell_type": "code",
   "execution_count": null,
   "id": "rental-standing",
   "metadata": {},
   "outputs": [],
   "source": [
    "vis.show_RQ(BF_image,datacube.data[4,7,:,:])"
   ]
  },
  {
   "cell_type": "code",
   "execution_count": null,
   "id": "appreciated-cartridge",
   "metadata": {},
   "outputs": [],
   "source": [
    "vis.show_RQ(realspace_image=BF_image,\n",
    "            diffractionspace_image=datacube.data[4,7,:,:],\n",
    "            realspace_pdict={'cmap':'viridis'},\n",
    "            diffractionspace_pdict={'scaling':'power','power':0.5,\n",
    "                                    'clipvals':'std','min':1,'max':3})"
   ]
  },
  {
   "cell_type": "code",
   "execution_count": null,
   "id": "elect-premium",
   "metadata": {},
   "outputs": [],
   "source": []
  },
  {
   "cell_type": "code",
   "execution_count": null,
   "id": "applicable-colors",
   "metadata": {},
   "outputs": [],
   "source": []
  }
 ],
 "metadata": {
  "kernelspec": {
   "display_name": "Python 3",
   "language": "python",
   "name": "python3"
  },
  "language_info": {
   "codemirror_mode": {
    "name": "ipython",
    "version": 3
   },
   "file_extension": ".py",
   "mimetype": "text/x-python",
   "name": "python",
   "nbconvert_exporter": "python",
   "pygments_lexer": "ipython3",
   "version": "3.8.5"
  }
 },
 "nbformat": 4,
 "nbformat_minor": 5
}
