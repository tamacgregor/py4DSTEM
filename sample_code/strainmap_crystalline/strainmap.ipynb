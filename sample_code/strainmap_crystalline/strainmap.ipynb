{
 "cells": [
  {
   "cell_type": "markdown",
   "metadata": {},
   "source": [
    "# Mapping crystalline strain\n",
    "---\n",
    "\n",
    "This notebook demonstates mapping strain in a single crystal.  It makes use of calibrations computed in calibration.ipynb.  In order, this notebook:\n",
    "\n",
    "- load the data\n",
    "- examine the data\n",
    "- find the origin of the diffraction plane\n",
    "- finds Bragg scattering\n",
    "- finds the lattice vectors\n",
    "- calculates the strain\n",
    "- visualizes the strain\n",
    "\n",
    "\n",
    "## Data\n",
    "This notebook uses a simulated 4D-STEM dataset.  Simulations were performed by Colin Ophus, have DOI number 10.5281/zenodo.3592520, and can be [downloaded here](https://drive.google.com/file/d/1QiH7phMR0AaMkYoio3uhgTTQMOHG4l6b/view?usp=sharing).  \n",
    "You should then set the `filepath_datacube` variable in the cell below.\n",
    "\n",
    "This notebook picks up where calibration.ipynb left off, using some of the data and metadata written by calibration.ipynb to complete the generation of strain maps.  That notebook should be run before this one.  Then, update the variable `filepath_calibration` in the cell immediately following this one to point output file of calibration.ipynb.\n",
    "\n",
    "\n",
    "### Version info\n",
    "\n",
    "Last updated on 2020-04-23 with py4DSTEM version 0.12.0."
   ]
  },
  {
   "cell_type": "code",
   "execution_count": null,
   "metadata": {},
   "outputs": [],
   "source": [
    "import numpy as np\n",
    "import matplotlib.pyplot as plt\n",
    "import py4DSTEM"
   ]
  },
  {
   "cell_type": "code",
   "execution_count": null,
   "metadata": {},
   "outputs": [],
   "source": [
    "filepath_datacube = \"/media/AuxDriveB/Data/4DSTEM_SampleData/py4DSTEM_sample_data/calibrationData_simulatedAuNanoplatelet_binned.h5\"\n",
    "filepath_calibrations = \"/media/AuxDriveB/Data/4DSTEM_SampleData/py4DSTEM_sample_data/calibrationData_simulatedAuNanoplatelet_binned_processing.h5\""
   ]
  },
  {
   "cell_type": "markdown",
   "metadata": {},
   "source": [
    "## Load the data"
   ]
  },
  {
   "cell_type": "code",
   "execution_count": null,
   "metadata": {},
   "outputs": [],
   "source": [
    "# Check the file contents\n",
    "py4DSTEM.io.read(filepath_datacube)\n",
    "print('')\n",
    "py4DSTEM.io.read(filepath_calibrations)"
   ]
  },
  {
   "cell_type": "markdown",
   "metadata": {},
   "source": [
    "### What this data is\n",
    "\n",
    "The data here is meant to represent a single 4D-STEM acquisition of some sample of interest in which the strain is to be calculated and visualized, plus a probe template for Bragg scattering detection, and metadata for calibration.\n",
    "\n",
    "#### `datacube` (simulation_4DSTEM)\n",
    "\n",
    "This represents the 4D-STEM scan of interest.  Here, we use simulated data of a gold nanoplatelet, in which position-depenedent strain has been introduced to the lattice.\n",
    "\n",
    "#### `coordinates` (coordinates_calibrationdata)\n",
    "\n",
    "The 4D `datacube` requires calibration to obtain quantitative strain maps.  Here, we use calibration data determined in the previous notebook, calibration.ipynb.\n",
    "\n",
    "#### `probe_kernel`\n",
    "\n",
    "To compute strain we first fit the lattice vectors, and to fit the lattice vectors we first localize the Bragg scattering.  py4DSTEM detects Bragg scattering using template matching - to use these methods, a convolution kernel based on the structure of the electron probe over vacuum is used.  Here, we use a probe kernel generated in the previous notebook, calibration.ipynb."
   ]
  },
  {
   "cell_type": "code",
   "execution_count": null,
   "metadata": {},
   "outputs": [],
   "source": [
    "# Load the data\n",
    "datacube = py4DSTEM.io.read(filepath_datacube,data_id='simulation_4DSTEM')\n",
    "coordinates = py4DSTEM.io.read(filepath_calibrations,data_id='coordinates_calibrationdata')\n",
    "probe_kernel = py4DSTEM.io.read(filepath_calibrations,data_id='probe').slices['probe_kernel']"
   ]
  },
  {
   "cell_type": "markdown",
   "metadata": {},
   "source": [
    "#### Prepare `coordinates`\n",
    "\n",
    "Here we use the `coordinates` obtained in the last notebook to calibrate our data."
   ]
  },
  {
   "cell_type": "code",
   "execution_count": null,
   "metadata": {},
   "outputs": [],
   "source": [
    "coordinates.set_origin(0,0) # The origin obtained from the calibration dataset don't apply here!\n",
    "coordinates.name = 'coordinates_strainmap'"
   ]
  },
  {
   "cell_type": "markdown",
   "metadata": {},
   "source": [
    "## Inspect the data"
   ]
  },
  {
   "cell_type": "code",
   "execution_count": null,
   "metadata": {},
   "outputs": [],
   "source": [
    "# Examine the 4D datacube\n",
    "dp_max = np.max(datacube.data,axis=(0,1))\n",
    "py4DSTEM.visualize.show(dp_max,scaling='log')"
   ]
  },
  {
   "cell_type": "code",
   "execution_count": null,
   "metadata": {},
   "outputs": [],
   "source": [
    "# Get a virtual bright-field image\n",
    "qx0,qy0 = 63.5,63.45\n",
    "qR = 12\n",
    "\n",
    "py4DSTEM.visualize.show(dp_max,scaling='log',\n",
    "                        circle={'center':(qx0,qy0),'R':qR,'alpha':.25,'fill':True})\n",
    "BF = py4DSTEM.process.virtualimage.get_virtualimage_circ(datacube,qx0,qy0,qR)\n",
    "py4DSTEM.visualize.show(BF)"
   ]
  },
  {
   "cell_type": "code",
   "execution_count": null,
   "metadata": {},
   "outputs": [],
   "source": [
    "# Examine the probe kernel\n",
    "py4DSTEM.visualize.show_kernel(probe_kernel,R=30,L=64,W=3)"
   ]
  },
  {
   "cell_type": "code",
   "execution_count": null,
   "metadata": {},
   "outputs": [],
   "source": [
    "# Check the information stored in coordinates\n",
    "coordinates.show()"
   ]
  },
  {
   "cell_type": "markdown",
   "metadata": {},
   "source": [
    "## Find the origin"
   ]
  },
  {
   "cell_type": "code",
   "execution_count": null,
   "metadata": {},
   "outputs": [],
   "source": [
    "# Find the origin\n",
    "qx0_meas,qy0_meas = py4DSTEM.process.calibration.get_origin(datacube=datacube)\n",
    "py4DSTEM.visualize.show_image_grid(get_ar=lambda i:[qx0_meas,qy0_meas][i],H=1,W=2,cmap='RdBu')"
   ]
  },
  {
   "cell_type": "code",
   "execution_count": null,
   "metadata": {},
   "outputs": [],
   "source": [
    "# Set a mask for outliers\n",
    "mask,scores,cutoff = py4DSTEM.process.calibration.find_outlier_shifts(qx0_meas,qy0_meas,\n",
    "                                                n_sigma=.5,edge_boundary=0)\n",
    "#                                                n_sigma=5,edge_boundary=0)  # This less conservative mask will also work\n",
    "                                                                             # The one in the line above is better!\n",
    "py4DSTEM.visualize.show_hist(scores,vlines=cutoff)\n",
    "py4DSTEM.visualize.show_image_grid(get_ar=lambda i:[qx0_meas,qy0_meas][i],\n",
    "                                             H=1,W=2,cmap=\"RdBu\",mask=mask==False)"
   ]
  },
  {
   "cell_type": "code",
   "execution_count": null,
   "metadata": {},
   "outputs": [],
   "source": [
    "# Fit a plane\n",
    "qx0_fit,qy0_fit,qx0_residuals,qy0_residuals = \\\n",
    "                    py4DSTEM.process.calibration.fit_origin(qx0_meas,qy0_meas,\n",
    "                                                            mask=mask,fitfunction='parabola')\n",
    "py4DSTEM.visualize.show_image_grid(lambda i:[qx0_meas,qx0_fit,qx0_residuals,\n",
    "                                             qy0_meas,qy0_fit,qy0_residuals][i],\n",
    "                                   H=2,W=3,cmap='RdBu')"
   ]
  },
  {
   "cell_type": "code",
   "execution_count": null,
   "metadata": {},
   "outputs": [],
   "source": [
    "# Store the origin position\n",
    "coordinates.set_origin(qx0_fit,qy0_fit)"
   ]
  },
  {
   "cell_type": "markdown",
   "metadata": {},
   "source": [
    "## Find Bragg scattering"
   ]
  },
  {
   "cell_type": "code",
   "execution_count": null,
   "metadata": {},
   "outputs": [],
   "source": [
    "# Select a few DPs on which to test disk detection parameters\n",
    "\n",
    "rxs = 19,50,62\n",
    "rys = 48,31,68\n",
    "colors = ['r','b','g']\n",
    "\n",
    "py4DSTEM.visualize.show_points(BF,x=rxs,y=rys,pointcolor=colors,figsize=(8,8))\n",
    "py4DSTEM.visualize.show_image_grid(get_ar=lambda i:datacube.data[rxs[i],rys[i],:,:],\n",
    "                                   H=1,W=3,get_bordercolor=lambda i:colors[i],\n",
    "                                   clipvals='std',min=0,max=5)"
   ]
  },
  {
   "cell_type": "code",
   "execution_count": null,
   "metadata": {},
   "outputs": [],
   "source": [
    "# Tune disk detection parameters on selected DPs\n",
    "\n",
    "corrPower=1\n",
    "sigma=2\n",
    "edgeBoundary=10\n",
    "minRelativeIntensity=0.005\n",
    "relativeToPeak=0\n",
    "minPeakSpacing=15\n",
    "maxNumPeaks=80\n",
    "subpixel='multicorr'\n",
    "upsample_factor=16\n",
    "\n",
    "selected_peaks = py4DSTEM.process.diskdetection.find_Bragg_disks_selected(\n",
    "                        datacube=datacube,\n",
    "                        probe=probe_kernel,\n",
    "                        Rx=rxs,\n",
    "                        Ry=rys,\n",
    "                        corrPower=corrPower,\n",
    "                        sigma=sigma,\n",
    "                        edgeBoundary=edgeBoundary,\n",
    "                        minRelativeIntensity=minRelativeIntensity,\n",
    "                        relativeToPeak=relativeToPeak,\n",
    "                        minPeakSpacing=minPeakSpacing,\n",
    "                        maxNumPeaks=maxNumPeaks,\n",
    "                        subpixel=subpixel,\n",
    "                        upsample_factor=upsample_factor\n",
    ")\n",
    "\n",
    "py4DSTEM.visualize.show_points(BF,x=rxs,y=rys,pointcolor=colors,figsize=(8,8))\n",
    "py4DSTEM.visualize.show_image_grid(get_ar=lambda i:datacube.data[rxs[i],rys[i],:,:],H=1,W=3,\n",
    "                                   get_bordercolor=lambda i:colors[i],\n",
    "                                   get_x=lambda i:selected_peaks[i].data['qx'],\n",
    "                                   get_y=lambda i:selected_peaks[i].data['qy'],\n",
    "                                   get_pointcolors=lambda i:colors[i],\n",
    "                                   clipvals='std',min=0,max=5)"
   ]
  },
  {
   "cell_type": "code",
   "execution_count": null,
   "metadata": {},
   "outputs": [],
   "source": [
    "# Get all disks\n",
    "\n",
    "braggpeaks_raw = py4DSTEM.process.diskdetection.find_Bragg_disks(\n",
    "                                datacube=datacube,\n",
    "                                probe=probe_kernel,\n",
    "                                corrPower=corrPower,\n",
    "                                sigma=sigma,\n",
    "                                edgeBoundary=edgeBoundary,\n",
    "                                minRelativeIntensity=minRelativeIntensity,\n",
    "                                relativeToPeak=relativeToPeak,\n",
    "                                minPeakSpacing=minPeakSpacing,\n",
    "                                maxNumPeaks=maxNumPeaks,\n",
    "                                subpixel=subpixel,\n",
    "                                upsample_factor=upsample_factor\n",
    ")"
   ]
  },
  {
   "cell_type": "code",
   "execution_count": null,
   "metadata": {},
   "outputs": [],
   "source": [
    "# Center the disk positions about the origin\n",
    "braggpeaks_centered = py4DSTEM.process.calibration.center_braggpeaks(braggpeaks_raw,coords=coordinates)"
   ]
  },
  {
   "cell_type": "code",
   "execution_count": null,
   "metadata": {},
   "outputs": [],
   "source": [
    "# Get Bragg vector map\n",
    "bvm_raw = py4DSTEM.process.diskdetection.get_bragg_vector_map(\n",
    "                    braggpeaks_centered,datacube.Q_Nx,datacube.Q_Ny)\n",
    "py4DSTEM.visualize.show(bvm_raw,cmap='gray',scaling='log',clipvals='manual',min=0,max=12)"
   ]
  },
  {
   "cell_type": "code",
   "execution_count": null,
   "metadata": {},
   "outputs": [],
   "source": [
    "# Get the intensities of all the Bragg disks\n",
    "bragg_intensities = py4DSTEM.process.diskdetection.get_pointlistarray_intensities(braggpeaks_centered)"
   ]
  },
  {
   "cell_type": "code",
   "execution_count": null,
   "metadata": {},
   "outputs": [],
   "source": [
    "# Set a global intensity threshold for the Bragg disks\n",
    "thresh = 18\n",
    "xmax = 50\n",
    "\n",
    "fig,ax = py4DSTEM.visualize.show_hist(bragg_intensities,returnfig=True)\n",
    "ax.vlines(thresh,0,ax.get_ylim()[1],ls=':',color='k')\n",
    "plt.show()\n",
    "fig,ax = py4DSTEM.visualize.show_hist(bragg_intensities,returnfig=True,bins=np.linspace(0,xmax,500))\n",
    "ax.vlines(thresh,0,ax.get_ylim()[1],ls=':',color='k')\n",
    "plt.show()"
   ]
  },
  {
   "cell_type": "code",
   "execution_count": null,
   "metadata": {},
   "outputs": [],
   "source": [
    "# Apply the threshold\n",
    "braggpeaks_thresh = py4DSTEM.process.diskdetection.universal_threshold(braggpeaks_centered,thresh,'manual')"
   ]
  },
  {
   "cell_type": "code",
   "execution_count": null,
   "metadata": {},
   "outputs": [],
   "source": [
    "# Get and show the thresholded intensities\n",
    "bragg_intensities_thresh = py4DSTEM.process.diskdetection.get_pointlistarray_intensities(braggpeaks_thresh)\n",
    "\n",
    "fig,ax = py4DSTEM.visualize.show_hist(bragg_intensities_thresh,returnfig=True)\n",
    "ax.vlines(thresh,0,ax.get_ylim()[1],ls=':',color='k')\n",
    "plt.show()\n",
    "fig,ax = py4DSTEM.visualize.show_hist(bragg_intensities_thresh,returnfig=True,bins=np.linspace(0,xmax,500))\n",
    "ax.vlines(thresh,0,ax.get_ylim()[1],ls=':',color='k')\n",
    "plt.show()"
   ]
  },
  {
   "cell_type": "code",
   "execution_count": null,
   "metadata": {},
   "outputs": [],
   "source": [
    "# Re-compute the BVM\n",
    "bvm_thresh = py4DSTEM.process.diskdetection.get_bragg_vector_map(\n",
    "                    braggpeaks_thresh,datacube.Q_Nx,datacube.Q_Ny)\n",
    "py4DSTEM.visualize.show(bvm_thresh,cmap='gray',scaling='log',clipvals='manual',min=0,max=12)"
   ]
  },
  {
   "cell_type": "code",
   "execution_count": null,
   "metadata": {},
   "outputs": [],
   "source": [
    "# Correct elliptical distortion\n",
    "braggpeaks_ellipsecorr = py4DSTEM.process.calibration.correct_braggpeak_elliptical_distortions(\n",
    "                             braggpeaks_thresh, coordinates.get_e(),coordinates.get_theta())"
   ]
  },
  {
   "cell_type": "code",
   "execution_count": null,
   "metadata": {},
   "outputs": [],
   "source": [
    "# Recalculate the bvm\n",
    "bvm_ellipsecorr = py4DSTEM.process.diskdetection.get_bragg_vector_map(\n",
    "                      braggpeaks_ellipsecorr,datacube.Q_Nx,datacube.Q_Ny)\n",
    "py4DSTEM.visualize.show(bvm_ellipsecorr,cmap='gray',scaling='log',clipvals='manual',min=0,max=12)"
   ]
  },
  {
   "cell_type": "markdown",
   "metadata": {},
   "source": [
    "##  Find the lattice vectors"
   ]
  },
  {
   "cell_type": "code",
   "execution_count": null,
   "metadata": {},
   "outputs": [],
   "source": [
    "gx,gy,gI = py4DSTEM.process.utils.get_maxima_2D(\n",
    "                bvm_ellipsecorr,\n",
    "                sigma=0,\n",
    "                edgeBoundary=10,\n",
    "                minSpacing=20,\n",
    "                minRelativeIntensity=0.00001,\n",
    "                relativeToPeak=0,\n",
    "                maxNumPeaks=80,\n",
    "                subpixel=True\n",
    ")\n",
    "py4DSTEM.visualize.show_points(bvm_ellipsecorr,x=gx,y=gy,cmap='gray',scaling='log',clipvals='manual',min=0,max=12)"
   ]
  },
  {
   "cell_type": "code",
   "execution_count": null,
   "metadata": {},
   "outputs": [],
   "source": [
    "# Select the center beam and two g vectors\n",
    "i0,i_g1,i_g2 = 0,4,12\n",
    "g1,g2 = py4DSTEM.visualize.select_lattice_vectors(bvm_ellipsecorr,scaling='log',clipvals='manual',min=0,max=12,\n",
    "                                                  gx=gx,gy=gy,i0=i0,i1=i_g1,i2=i_g2)"
   ]
  },
  {
   "cell_type": "code",
   "execution_count": null,
   "metadata": {},
   "outputs": [],
   "source": [
    "# Get indexing and show\n",
    "h,k,braggdirections = py4DSTEM.process.latticevectors.index_bragg_directions(\n",
    "                                        qx0,qy0,gx,gy,g1,g2)\n",
    "py4DSTEM.visualize.show_bragg_indexing(bvm_ellipsecorr,scaling='log',clipvals='manual',min=0,max=12,\n",
    "                                       braggdirections=braggdirections,points=True)"
   ]
  },
  {
   "cell_type": "code",
   "execution_count": null,
   "metadata": {},
   "outputs": [],
   "source": [
    "# Select maxPeakSpacing\n",
    "maxPeakSpacing = 5\n",
    "py4DSTEM.visualize.show_max_peak_spacing(bvm_ellipsecorr,cmap='gray',scaling='log',clipvals='manual',min=0,max=12,\n",
    "                          spacing=maxPeakSpacing,braggdirections=braggdirections)"
   ]
  },
  {
   "cell_type": "code",
   "execution_count": null,
   "metadata": {},
   "outputs": [],
   "source": [
    "# Add indices to the braggpeaks PointListArray\n",
    "braggpeaks_indexed = py4DSTEM.process.latticevectors.add_indices_to_braggpeaks(\n",
    "            braggpeaks_ellipsecorr,braggdirections,maxPeakSpacing=maxPeakSpacing,qx_shift=qx0,qy_shift=qy0)"
   ]
  },
  {
   "cell_type": "code",
   "execution_count": null,
   "metadata": {},
   "outputs": [],
   "source": [
    "# Fit reciprocal lattice vectors at each scan position\n",
    "g1g2_map = py4DSTEM.process.latticevectors.fit_lattice_vectors_all_DPs(\n",
    "                            braggpeaks_indexed,minNumPeaks=6)"
   ]
  },
  {
   "cell_type": "markdown",
   "metadata": {},
   "source": [
    "## Calculate strain\n",
    "\n",
    "Here we:\n",
    "- find and show the strain using an automatically selected reference lattice\n",
    "- select a reference lattice\n",
    "- find and show the strain with this reference\n",
    "- orient the strain matrix by setting a reference in diffraction space\n",
    "- orient the strain matrix by setting a reference in real space"
   ]
  },
  {
   "cell_type": "code",
   "execution_count": null,
   "metadata": {},
   "outputs": [],
   "source": [
    "# Compute the strain using the median of the measured g1g2 as reference\n",
    "strainmap_mediang1g2 = py4DSTEM.process.latticevectors.get_strain_from_reference_region(\n",
    "                        g1g2_map,mask=np.ones((datacube.R_Nx,datacube.R_Ny),dtype=bool))\n",
    "\n",
    "# Show\n",
    "py4DSTEM.visualize.show_strain(strainmap_mediang1g2,\n",
    "            vrange_exx=[-6,6],vrange_theta=[-3,3],\n",
    "            axes_x0=14,axes_y0=6,xaxis_x=1,xaxis_y=0,axes_length=10,\n",
    "            axes_width=1,axes_color='w',xaxis_space='Q',\n",
    "            QR_rotation=np.degrees(coordinates.get_QR_rotation()),\n",
    "            axes_labelsize=16,axes_labelcolor='w',axes_plots=('exx'),\n",
    "            figsize=(12,12))"
   ]
  },
  {
   "cell_type": "code",
   "execution_count": null,
   "metadata": {},
   "outputs": [],
   "source": [
    "# Define a reference with an ROI, which is taken to have zero strain\n",
    "x0,xf,y0,yf = 34,44,9,19\n",
    "py4DSTEM.visualize.show(strainmap_mediang1g2.slices['e_xx'],\n",
    "                        mask=strainmap_mediang1g2.slices['mask'],\n",
    "                        cmap='RdBu',clipvals='centered',min=0,\n",
    "                        rectangle={'lims':(x0,xf,y0,yf),'fill':False,'color':'k'})"
   ]
  },
  {
   "cell_type": "code",
   "execution_count": null,
   "metadata": {},
   "outputs": [],
   "source": [
    "# Get reference lattice vectors\n",
    "mask = np.zeros((datacube.R_Nx,datacube.R_Ny),dtype=bool)\n",
    "mask[x0:xf,y0:yf] = True\n",
    "g1_ref,g2_ref = py4DSTEM.process.latticevectors.get_reference_g1g2(g1g2_map,mask)\n",
    "py4DSTEM.visualize.show_lattice_vectors(bvm_ellipsecorr,scaling='log',clipvals='manual',min=0,max=12,\n",
    "                                        x0=datacube.Q_Ny/2.,y0=datacube.Q_Nx/2.,\n",
    "                                        g1=g1,g2=g2)"
   ]
  },
  {
   "cell_type": "code",
   "execution_count": null,
   "metadata": {},
   "outputs": [],
   "source": [
    "# Get the strain with respect to this reference lattice\n",
    "strainmap_ROIg1g2 = py4DSTEM.process.latticevectors.get_strain_from_reference_g1g2(\n",
    "                                g1g2_map,g1_ref,g2_ref)\n",
    "\n",
    "# Show\n",
    "py4DSTEM.visualize.show_strain(strainmap_ROIg1g2,\n",
    "            vrange_exx=[-6,6],vrange_theta=[-3,3],\n",
    "            axes_x0=14,axes_y0=6,xaxis_x=1,xaxis_y=0,axes_length=10,\n",
    "            axes_width=1,axes_color='w',xaxis_space='Q',\n",
    "            QR_rotation=np.degrees(coordinates.get_QR_rotation()),\n",
    "            axes_labelsize=16,axes_labelcolor='w',axes_plots=('exx'),\n",
    "            figsize=(12,12))"
   ]
  },
  {
   "cell_type": "code",
   "execution_count": null,
   "metadata": {},
   "outputs": [],
   "source": [
    "### Orient the strain matrix\n",
    "\n",
    "# Select an orientation for the strain matrix' x-axis\n",
    "vector_space='Q'\n",
    "#Qxaxis_x,Qxaxis_y = 1,0                                   # Default\n",
    "Qxaxis_x,Qxaxis_y=g1[0]-g2[0],g1[1]-g2[1]\n",
    "\n",
    "# Transform the strain\n",
    "strainmap = py4DSTEM.process.latticevectors.get_rotated_strain_map(\n",
    "                            strainmap_ROIg1g2,Qxaxis_x,Qxaxis_y)\n",
    "\n",
    "# Show the strain matrix' axes\n",
    "# in real and diffraction space\n",
    "py4DSTEM.visualize.show_RQ_axes(\n",
    "        realspace_image=strainmap.slices['e_xx'],\n",
    "        realspace_pdict={'cmap':'RdBu','clipvals':'centered','min':0,\n",
    "                         'mask':strainmap.slices['mask']},\n",
    "        diffractionspace_image=bvm_ellipsecorr,\n",
    "        diffractionspace_pdict={'scaling':'log','clipvals':'manual','min':0,'max':12},\n",
    "        vx=Qxaxis_x,vy=Qxaxis_y,vector_space=vector_space,\n",
    "        QR_rotation=np.degrees(coordinates.get_QR_rotation()),\n",
    "        x0_R=15,y0_R=15,vlength_R=10,width_R=0.7,color_R='r',labelcolor_R='w',labelsize_R=18,\n",
    "        x0_Q=62,y0_Q=62,vlength_Q=20,width_Q=1,color_Q='r',labelcolor_Q='w',labelsize_Q=18)\n",
    "\n",
    "# Show the strain\n",
    "py4DSTEM.visualize.show_strain(strainmap,vrange_exx=[-6,6],vrange_theta=[-3,3],\n",
    "            axes_x0=14,axes_y0=14,xaxis_x=Qxaxis_x,xaxis_y=Qxaxis_y,axes_length=10,\n",
    "            axes_width=1,axes_color='r',xaxis_space='Q',\n",
    "            QR_rotation=np.degrees(coordinates.get_QR_rotation()),\n",
    "            axes_labelsize=16,axes_labelcolor='w',axes_plots=('exx'),\n",
    "            figsize=(12,12))"
   ]
  },
  {
   "cell_type": "code",
   "execution_count": null,
   "metadata": {},
   "outputs": [],
   "source": [
    "# Select the orientation in real space\n",
    "vector_space='R'\n",
    "orientation_deg = 66\n",
    "Rxaxis_x = np.cos(np.radians(orientation_deg))\n",
    "Rxaxis_y = np.sin(np.radians(orientation_deg))\n",
    "\n",
    "# Transform the strain\n",
    "_,_,Qxaxis2_x,Qxaxis2_y = py4DSTEM.process.calibration.get_Qvector_from_Rvector(\n",
    "            Rxaxis_x,Rxaxis_y,np.degrees(coordinates.get_QR_rotation()))\n",
    "strainmap2 = py4DSTEM.process.latticevectors.get_rotated_strain_map(\n",
    "            strainmap_ROIg1g2,Qxaxis2_x,Qxaxis2_y)\n",
    "\n",
    "# Show the strain matrix' axes\n",
    "# in real and diffraction space\n",
    "py4DSTEM.visualize.show_RQ_axes(\n",
    "        realspace_image=strainmap.slices['e_xx'],\n",
    "        realspace_pdict={'cmap':'RdBu','clipvals':'centered','min':0,\n",
    "                         'mask':strainmap.slices['mask']},\n",
    "        diffractionspace_image=bvm_ellipsecorr,\n",
    "        diffractionspace_pdict={'scaling':'log','clipvals':'manual','min':0,'max':12},\n",
    "        vx=Qxaxis2_x,vy=Qxaxis2_y,vector_space=vector_space,\n",
    "        QR_rotation=np.degrees(coordinates.get_QR_rotation()),\n",
    "        x0_R=15,y0_R=15,vlength_R=10,width_R=0.7,color_R='r',labelcolor_R='w',labelsize_R=18,\n",
    "        x0_Q=62,y0_Q=62,vlength_Q=20,width_Q=1,color_Q='r',labelcolor_Q='w',labelsize_Q=18)\n",
    "\n",
    "# Show the strain\n",
    "py4DSTEM.visualize.show_strain(strainmap2,\n",
    "            vrange_exx=[-6,6],vrange_theta=[-3,3],\n",
    "            axes_x0=14,axes_y0=14,\n",
    "            xaxis_x=Qxaxis2_x,xaxis_y=Qxaxis2_y,axes_length=10,\n",
    "            axes_width=1,axes_color='r',xaxis_space=vector_space,\n",
    "            QR_rotation=np.degrees(coordinates.get_QR_rotation()),\n",
    "            axes_labelsize=16,axes_labelcolor='w',axes_plots=('exx'),\n",
    "            figsize=(12,12))"
   ]
  },
  {
   "cell_type": "code",
   "execution_count": null,
   "metadata": {},
   "outputs": [],
   "source": []
  }
 ],
 "metadata": {
  "kernelspec": {
   "display_name": "Python 3",
   "language": "python",
   "name": "python3"
  },
  "language_info": {
   "codemirror_mode": {
    "name": "ipython",
    "version": 3
   },
   "file_extension": ".py",
   "mimetype": "text/x-python",
   "name": "python",
   "nbconvert_exporter": "python",
   "pygments_lexer": "ipython3",
   "version": "3.8.5"
  }
 },
 "nbformat": 4,
 "nbformat_minor": 4
}
