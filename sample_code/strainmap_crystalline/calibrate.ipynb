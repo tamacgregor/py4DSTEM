{
 "cells": [
  {
   "cell_type": "markdown",
   "metadata": {},
   "source": [
    "# Calibration\n",
    "---\n",
    "\n",
    "This notebook demonstates calibration of a 4D-STEM dataset for the purposes of strain mapping.  The following calibration measurements are performed:\n",
    "\n",
    "- center position (i.e. origin of coordinates in diffraction space)\n",
    "- elliptical distortion of diffraction space\n",
    "- rotational misalignment of real and diffraction space directions\n",
    "- detector (diffraction space) pixel size\n",
    "- beam convergence angle\n",
    "\n",
    "\n",
    "## Data\n",
    "This is a simulated 4D-STEM dataset.  Simulations were performed by Colin Ophus, have DOI number 10.5281/zenodo.3592520, and can be [downloaded here](https://drive.google.com/file/d/1QiH7phMR0AaMkYoio3uhgTTQMOHG4l6b/view?usp=sharing).  \n",
    "You should then set the `filepath` variable in the cell below.\n",
    "\n",
    "\n",
    "### Versioning\n",
    "\n",
    "Last updated on 2021-04-23 with py4DSTEM v.0.12.0."
   ]
  },
  {
   "cell_type": "code",
   "execution_count": null,
   "metadata": {},
   "outputs": [],
   "source": [
    "import numpy as np\n",
    "import matplotlib.pyplot as plt\n",
    "import py4DSTEM\n",
    "from os import path "
   ]
  },
  {
   "cell_type": "code",
   "execution_count": null,
   "metadata": {},
   "outputs": [],
   "source": [
    "filepath = \"/media/AuxDriveB/Data/4DSTEM_SampleData/py4DSTEM_sample_data/calibrationData_simulatedAuNanoplatelet_binned.h5\""
   ]
  },
  {
   "cell_type": "markdown",
   "metadata": {},
   "source": [
    "## Load data"
   ]
  },
  {
   "cell_type": "code",
   "execution_count": null,
   "metadata": {},
   "outputs": [],
   "source": [
    "py4DSTEM.io.read(filepath)"
   ]
  },
  {
   "cell_type": "markdown",
   "metadata": {},
   "source": [
    "### What this data is\n",
    "\n",
    "The data here is meant to represent everything needed to perform the calibrations required for strain mapping.  The data in which strain is to be measuremed and analyzed is not required at this point.  The idea is that for a single day of experiments and a single set of experimental conditions, these calibrations need only be performed once.  The output file of this notebook can then be used to calibrate and analyze many 4D-STEM datasets.\n",
    "\n",
    "#### `datacube_cal` (polyAu_4DSTEM)\n",
    "\n",
    "This is a 4D-STEM scan of a calibartion sample - ideally, this should be a sample with known structure / lattice parameters, and with many crystal orientations represented.  Here we use a polydisperse distribution of gold nanoparticles.  The collection of many rotation angles of a crystal of known lattice structure is useful for calibration of the diffraction space pixel size, as well as the elliptical distortions.\n",
    "\n",
    "#### `probe_template`\n",
    "\n",
    "py4DSTEM detects Bragg scattering using template matching - to use these methods, an image of the probe template should be collected. Bragg disk detection is used here for careful elliptical distortion measurement.\n",
    "\n",
    "#### `defocused_probe` and `datacube_rotation` (simulation_4DSTEM)\n",
    "\n",
    "The real and diffraction planes may, in general, have some rotational misalignment.  Here we determine this misalignment by measuring the rotation between two images of the same sample - one in the diffraction plane, and one in the real plane.  A diffraction plane image can be obtained by defocusing the beam will produce a shadow image of the sample inside the CBED pattern.  A real plane image can be obtained using any STEM imaging modality.  Here we used an image of the defocused probe and a virtual image generated from a 4D-STEM scan, both obtained with the beam incident on the same sample, to perform this calibration."
   ]
  },
  {
   "cell_type": "code",
   "execution_count": null,
   "metadata": {},
   "outputs": [],
   "source": [
    "datacube_cal = py4DSTEM.io.read(filepath,data_id='polyAu_4DSTEM')\n",
    "probe_template = py4DSTEM.io.read(filepath,data_id='probe_template').data\n",
    "defocused_probe = py4DSTEM.io.read(filepath,data_id='defocused_probe').data\n",
    "datacube_rotation = py4DSTEM.io.read(filepath,data_id='simulation_4DSTEM')"
   ]
  },
  {
   "cell_type": "markdown",
   "metadata": {},
   "source": [
    "#### coordinates\n",
    "\n",
    "The calibrations performed here are stored in a Coordinates instance, one of the datastructures py4DSTEM knows how to read/write."
   ]
  },
  {
   "cell_type": "code",
   "execution_count": null,
   "metadata": {},
   "outputs": [],
   "source": [
    "coordinates = py4DSTEM.io.datastructure.Coordinates(datacube_cal.R_Nx,datacube_cal.R_Ny,\n",
    "                                                   datacube_cal.Q_Nx,datacube_cal.Q_Nx,\n",
    "                                                   name='coordinates_calibrationdata')"
   ]
  },
  {
   "cell_type": "markdown",
   "metadata": {},
   "source": [
    "## Examine the data"
   ]
  },
  {
   "cell_type": "code",
   "execution_count": null,
   "metadata": {},
   "outputs": [],
   "source": [
    "# Examine the 4D calibration dataset\n",
    "dp_max_cal = np.max(datacube_cal.data,axis=(0,1))\n",
    "py4DSTEM.visualize.show(dp_max_cal,scaling='log')"
   ]
  },
  {
   "cell_type": "code",
   "execution_count": null,
   "metadata": {},
   "outputs": [],
   "source": [
    "# Bright-field image\n",
    "qx0,qy0 = 64,64\n",
    "qR = 12\n",
    "\n",
    "py4DSTEM.visualize.show_circles(dp_max_cal,center=(qx0,qy0),R=qR,alpha=0.25,scaling='log')\n",
    "BF_cal = py4DSTEM.process.virtualimage.get_virtualimage_circ(datacube_cal,qx0,qy0,qR)\n",
    "py4DSTEM.visualize.show(BF_cal)"
   ]
  },
  {
   "cell_type": "code",
   "execution_count": null,
   "metadata": {},
   "outputs": [],
   "source": [
    "# Probe template\n",
    "py4DSTEM.visualize.show(probe_template,scaling='log')"
   ]
  },
  {
   "cell_type": "code",
   "execution_count": null,
   "metadata": {},
   "outputs": [],
   "source": [
    "# defocused probe image\n",
    "py4DSTEM.visualize.show(defocused_probe)"
   ]
  },
  {
   "cell_type": "code",
   "execution_count": null,
   "metadata": {},
   "outputs": [],
   "source": [
    "# Examine the 4D dataset of interest\n",
    "dp_max_rotation = np.max(datacube_rotation.data,axis=(0,1))\n",
    "py4DSTEM.visualize.show(dp_max_rotation,scaling='log')"
   ]
  },
  {
   "cell_type": "code",
   "execution_count": null,
   "metadata": {},
   "outputs": [],
   "source": [
    "# Get a virtual bright-field image\n",
    "qx0,qy0 = 63.5,63.45\n",
    "qR = 12\n",
    "\n",
    "py4DSTEM.visualize.show(dp_max_rotation,scaling='log',\n",
    "                        circle={'center':(qx0,qy0),'R':qR,'alpha':.25,'fill':True})\n",
    "BF_rotation = py4DSTEM.process.virtualimage.get_virtualimage_circ(datacube_rotation,qx0,qy0,qR)\n",
    "py4DSTEM.visualize.show(BF_rotation)"
   ]
  },
  {
   "cell_type": "markdown",
   "metadata": {},
   "source": [
    "## Prepare the probe template\n",
    "\n",
    "Here we\n",
    "- measure the center position and radius of the probe image\n",
    "- generate a probe kernel for the template-matching disk detection step\n",
    "\n",
    "Creating a good probe kernel is *essential* for the disk detection algorithm to work well - tuning the parameters you pass to `find_Bragg_disks` won't do you a lick of good if your kernel is no good.  More discussion of what makes a good probe template, and how to generate one, coming soon to a demo notebook near you."
   ]
  },
  {
   "cell_type": "code",
   "execution_count": null,
   "metadata": {},
   "outputs": [],
   "source": [
    "# Get the probe radius\n",
    "r,qx0,qy0 = py4DSTEM.process.calibration.get_probe_size(probe_template)\n",
    "r_trench = r+0.6\n",
    "py4DSTEM.visualize.show_circles(probe_template,(qx0,qy0),r_trench,scaling='log')"
   ]
  },
  {
   "cell_type": "code",
   "execution_count": null,
   "metadata": {},
   "outputs": [],
   "source": [
    "# Get the probe kernel\n",
    "probe_kernel = py4DSTEM.process.diskdetection.get_probe_kernel_logistictrench(\n",
    "                                        probe_template,r_trench,trenchwidth=3,blurwidth=1)\n",
    "py4DSTEM.visualize.show_kernel(probe_kernel,R=30,L=64,W=3)"
   ]
  },
  {
   "cell_type": "markdown",
   "metadata": {},
   "source": [
    "## Find the origin\n",
    "\n",
    "Here we:\n",
    "- measure the position of the origin \n",
    "- mask any outlier positions \n",
    "- fit a plane to those positions\n",
    "- set the fit plane as the origin of coordinates at each scan position"
   ]
  },
  {
   "cell_type": "code",
   "execution_count": null,
   "metadata": {},
   "outputs": [],
   "source": [
    "# Find CoM of center disk\n",
    "qx0_meas,qy0_meas = py4DSTEM.process.calibration.get_origin(datacube=datacube_cal)\n",
    "py4DSTEM.visualize.show_image_grid(get_ar=lambda i:[qx0_meas,qy0_meas][i],H=1,W=2,cmap='RdBu')"
   ]
  },
  {
   "cell_type": "code",
   "execution_count": null,
   "metadata": {},
   "outputs": [],
   "source": [
    "# Set a mask for outliers\n",
    "mask,scores,cutoff = py4DSTEM.process.calibration.find_outlier_shifts(qx0_meas,qy0_meas,\n",
    "                                                n_sigma=5,edge_boundary=0)\n",
    "py4DSTEM.visualize.show_hist(scores,vlines=cutoff)\n",
    "py4DSTEM.visualize.show_image_grid(get_ar=lambda i:[qx0_meas,qy0_meas][i],\n",
    "                                             H=1,W=2,cmap=\"RdBu\",mask=mask==False)"
   ]
  },
  {
   "cell_type": "code",
   "execution_count": null,
   "metadata": {},
   "outputs": [],
   "source": [
    "# Fit a plane\n",
    "qx0_fit,qy0_fit,qx0_residuals,qy0_residuals = \\\n",
    "            py4DSTEM.process.calibration.fit_origin(qx0_meas,qy0_meas,mask=mask,fitfunction='parabola')\n",
    "py4DSTEM.visualize.show_image_grid(lambda i:[qx0_meas,qx0_fit,qx0_residuals,\n",
    "                                             qy0_meas,qy0_fit,qy0_residuals][i],\n",
    "                                   H=2,W=3,cmap='RdBu')"
   ]
  },
  {
   "cell_type": "code",
   "execution_count": null,
   "metadata": {},
   "outputs": [],
   "source": [
    "# Store the origin position\n",
    "coordinates.set_origin(qx0_fit,qy0_fit)"
   ]
  },
  {
   "cell_type": "markdown",
   "metadata": {},
   "source": [
    "## Find bragg disk positions\n",
    "\n",
    "Here, we\n",
    "- select a few diffraction patterns to use as examples\n",
    "- tune the disk fitting parameters\n",
    "- perform the disk fitting\n",
    "- center the detected disk positions\n",
    "- compute the bragg vector map (a 2D binned histogram of bragg peak positions and intensities)"
   ]
  },
  {
   "cell_type": "code",
   "execution_count": null,
   "metadata": {},
   "outputs": [],
   "source": [
    "# Select a few DPs on which to test disk detection parameters\n",
    "rxs_cal = 20,50,52\n",
    "rys_cal = 5,31,78\n",
    "colors = ['r','b','g']\n",
    "\n",
    "py4DSTEM.visualize.show_points(BF_cal,x=rxs_cal,y=rys_cal,pointcolor=colors,figsize=(8,8))\n",
    "py4DSTEM.visualize.show_image_grid(get_ar=lambda i:datacube_cal.data[rxs_cal[i],rys_cal[i],:,:],\n",
    "                                   H=1,W=3,get_bordercolor=lambda i:colors[i],scaling='log')"
   ]
  },
  {
   "cell_type": "code",
   "execution_count": null,
   "metadata": {},
   "outputs": [],
   "source": [
    "# Tune disk detection parameters on selected DPs\n",
    "corrPower=1\n",
    "sigma=2\n",
    "edgeBoundary=4\n",
    "minRelativeIntensity=0.05\n",
    "relativeToPeak=0\n",
    "minPeakSpacing=4\n",
    "maxNumPeaks=80\n",
    "subpixel='multicorr'\n",
    "upsample_factor=16\n",
    "\n",
    "selected_peaks = py4DSTEM.process.diskdetection.find_Bragg_disks_selected(\n",
    "                        datacube=datacube_cal,\n",
    "                        probe=probe_kernel,\n",
    "                        Rx=rxs_cal,\n",
    "                        Ry=rys_cal,\n",
    "                        corrPower=corrPower,\n",
    "                        sigma=sigma,\n",
    "                        edgeBoundary=edgeBoundary,\n",
    "                        minRelativeIntensity=minRelativeIntensity,\n",
    "                        relativeToPeak=relativeToPeak,\n",
    "                        minPeakSpacing=minPeakSpacing,\n",
    "                        maxNumPeaks=maxNumPeaks,\n",
    "                        subpixel=subpixel,\n",
    "                        upsample_factor=upsample_factor\n",
    ")\n",
    "\n",
    "py4DSTEM.visualize.show_points(BF_cal,x=rxs_cal,y=rys_cal,pointcolor=colors,figsize=(8,8))\n",
    "py4DSTEM.visualize.show_image_grid(get_ar=lambda i:datacube_cal.data[rxs_cal[i],rys_cal[i],:,:],H=1,W=3,\n",
    "                                   get_bordercolor=lambda i:colors[i],\n",
    "                                   get_x=lambda i:selected_peaks[i].data['qx'],\n",
    "                                   get_y=lambda i:selected_peaks[i].data['qy'],\n",
    "                                   get_pointcolors=lambda i:colors[i],scaling='log')"
   ]
  },
  {
   "cell_type": "code",
   "execution_count": null,
   "metadata": {},
   "outputs": [],
   "source": [
    "# Get all disks\n",
    "braggpeaks_raw = py4DSTEM.process.diskdetection.find_Bragg_disks(\n",
    "                                datacube=datacube_cal,\n",
    "                                probe=probe_kernel,\n",
    "                                corrPower=corrPower,\n",
    "                                sigma=sigma,\n",
    "                                edgeBoundary=edgeBoundary,\n",
    "                                minRelativeIntensity=minRelativeIntensity,\n",
    "                                relativeToPeak=relativeToPeak,\n",
    "                                minPeakSpacing=minPeakSpacing,\n",
    "                                maxNumPeaks=maxNumPeaks,\n",
    "                                subpixel=subpixel,\n",
    "                                upsample_factor=upsample_factor,\n",
    "                                name='braggpeaks_cal_raw'\n",
    ")"
   ]
  },
  {
   "cell_type": "code",
   "execution_count": null,
   "metadata": {},
   "outputs": [],
   "source": [
    "# Center the disk positions about the origin\n",
    "braggpeaks_centered = py4DSTEM.process.calibration.center_braggpeaks(braggpeaks_raw,coords=coordinates)"
   ]
  },
  {
   "cell_type": "code",
   "execution_count": null,
   "metadata": {},
   "outputs": [],
   "source": [
    "# Compute the Bragg vector map\n",
    "bvm_cal = py4DSTEM.process.diskdetection.get_bvm(braggpeaks_centered,datacube_cal.Q_Nx,datacube_cal.Q_Ny)\n",
    "py4DSTEM.visualize.show(bvm_cal,cmap='inferno',scaling='power',power=0.5,clipvals='manual',min=0,max=50)"
   ]
  },
  {
   "cell_type": "markdown",
   "metadata": {},
   "source": [
    "## Elliptical distortion calibration\n",
    "\n",
    "Here we\n",
    "- select an annular fitting region\n",
    "- fit a 2D elliptical curve to this region of the BVM\n",
    "- save the elliptical distortions to Coordinates\n",
    "- correct the bragg disk positions by stretching along the semiminor axis until it matches the semimajor axis length\n",
    "- check that the elliptical distortions have been removed from the corrected disk positions"
   ]
  },
  {
   "cell_type": "code",
   "execution_count": null,
   "metadata": {},
   "outputs": [],
   "source": [
    "# Select fitting region\n",
    "qmin,qmax = 31,39\n",
    "py4DSTEM.visualize.show(bvm_cal,cmap='gray',scaling='log',clipvals='manual',min=0,max=15,\n",
    "                        annulus={'center':(datacube_cal.Q_Nx/2.,datacube_cal.Q_Ny/2.),\n",
    "                                 'Ri':qmin,'Ro':qmax,'fill':True,'color':'y','alpha':0.2})"
   ]
  },
  {
   "cell_type": "code",
   "execution_count": null,
   "metadata": {},
   "outputs": [],
   "source": [
    "# Fit the elliptical distortions\n",
    "qx0,qy0,a,e,theta = py4DSTEM.process.calibration.fit_ellipse_1d(\n",
    "                        bvm_cal,datacube_cal.Q_Nx/2.,datacube_cal.Q_Ny/2.,qmin,qmax)\n",
    "py4DSTEM.visualize.show_elliptical_fit(bvm_cal,\n",
    "                       cmap='gray',scaling='log',clipvals='manual',min=0,max=15,\n",
    "                       center=(qx0,qy0),Ri=qmin,Ro=qmax,a=a,e=e,theta=theta,fill=True)"
   ]
  },
  {
   "cell_type": "code",
   "execution_count": null,
   "metadata": {},
   "outputs": [],
   "source": [
    "# Save to Coordinates\n",
    "coordinates.set_ellipse(e,theta)"
   ]
  },
  {
   "cell_type": "code",
   "execution_count": null,
   "metadata": {},
   "outputs": [],
   "source": [
    "# Confirm that elliptical distortions have been removed\n",
    "\n",
    "# Correct bragg peak positions, stretching the elliptical semiminor axis to match the semimajor axis length\n",
    "braggpeaks_ellipsecorr = py4DSTEM.process.calibration.correct_braggpeak_elliptical_distortions(\n",
    "                                            braggpeaks_centered,e,theta)\n",
    "\n",
    "# Recompute the bvm\n",
    "bvm_ellipsecorr = py4DSTEM.process.diskdetection.get_bragg_vector_map(\n",
    "                            braggpeaks_ellipsecorr,datacube_cal.Q_Nx,datacube_cal.Q_Ny)\n",
    "\n",
    "# Fit an ellipse to the elliptically corrected bvm\n",
    "qx0_corr,qy0_corr,a_corr,e_corr,theta_corr = py4DSTEM.process.calibration.fit_ellipse_1d(bvm_ellipsecorr,qx0,qy0,qmin,qmax)\n",
    "py4DSTEM.visualize.show_elliptical_fit(bvm_ellipsecorr,center=(qx0_corr,qy0_corr),Ri=qmin,Ro=qmax,a=a_corr,e=e_corr,theta=theta_corr,fill=True,\n",
    "                                       cmap='magma',scaling='power',power=0.5,clipvals='std',min=0,max=5)\n",
    "\n",
    "# Print the ratio of the semi-axes before and after correction\n",
    "print(\"The ratio of the semiminor to semimajor axes was measured to be\")\n",
    "print(\"\")\n",
    "print(\"\\t{:.2f}% in the original data and\".format(100*e))\n",
    "print(\"\\t{:.2f}% in the corrected data.\".format(100*e_corr))"
   ]
  },
  {
   "cell_type": "markdown",
   "metadata": {},
   "source": [
    "## Pixel size calibration"
   ]
  },
  {
   "cell_type": "code",
   "execution_count": null,
   "metadata": {},
   "outputs": [],
   "source": [
    "# Radial integration\n",
    "ymax = 300000\n",
    "dq=0.25             # binsize for the x-axis\n",
    "\n",
    "q,I_radial = py4DSTEM.process.utils.radial_integral(\n",
    "                        bvm_ellipsecorr,datacube_cal.Q_Nx/2,datacube_cal.Q_Ny/2,dr=dq)\n",
    "py4DSTEM.visualize.show_qprofile(q=q,intensity=I_radial,ymax=ymax)"
   ]
  },
  {
   "cell_type": "code",
   "execution_count": null,
   "metadata": {},
   "outputs": [],
   "source": [
    "# Fit a gaussian to find a peak location\n",
    "qmin,qmax = 32.5,37\n",
    "A,mu,sigma = py4DSTEM.process.fit.fit_1D_gaussian(q,I_radial,qmin,qmax)\n",
    "\n",
    "fig,ax = py4DSTEM.visualize.show_qprofile(q=q,intensity=I_radial,ymax=ymax,\n",
    "                                          returnfig=True)\n",
    "ax.vlines((qmin,qmax),0,ax.get_ylim()[1],color='r')\n",
    "ax.vlines(mu,0,ax.get_ylim()[1],color='g')\n",
    "ax.plot(q,py4DSTEM.process.fit.gaussian(q,A,mu,sigma),color='r')\n",
    "plt.show()"
   ]
  },
  {
   "cell_type": "code",
   "execution_count": null,
   "metadata": {},
   "outputs": [],
   "source": [
    "# Get pixel calibration\n",
    "# At time of writing, one peak with a known spacing\n",
    "# must be manually identified and entered\n",
    "d_spacing_nm = 0.1442                           # This is the Au 022 peak\n",
    "inv_nm_per_pixel = 1./(d_spacing_nm * mu)\n",
    "py4DSTEM.visualize.show_qprofile(q=q*inv_nm_per_pixel,intensity=I_radial,\n",
    "                                 ymax=ymax,xlabel='q (1/nm)')"
   ]
  },
  {
   "cell_type": "code",
   "execution_count": null,
   "metadata": {},
   "outputs": [],
   "source": [
    "# Demonstrate consistency with known Au spacings\n",
    "spacings_nm = np.array([0.1177,0.123,0.1442,0.2039,0.2355])   # 222, 113, 022, 002, 111\n",
    "spacings_inv_nm = 1./spacings_nm\n",
    "\n",
    "fig,ax = py4DSTEM.visualize.show_qprofile(q=q*inv_nm_per_pixel,intensity=I_radial,\n",
    "                                 ymax=ymax,xlabel='q (1/nm)',returnfig=True)\n",
    "ax.vlines(spacings_inv_nm,0,ax.get_ylim()[1],color='r')\n",
    "plt.show()"
   ]
  },
  {
   "cell_type": "code",
   "execution_count": null,
   "metadata": {},
   "outputs": [],
   "source": [
    "# Store\n",
    "coordinates.set_Q_pixel_size(inv_nm_per_pixel)\n",
    "coordinates.set_Q_pixel_units(r'nm$^{-1}$')"
   ]
  },
  {
   "cell_type": "markdown",
   "metadata": {},
   "source": [
    "## Rotational calibration\n",
    "\n",
    "Here we\n",
    "- display the shadow image (diffraction plane) and the matching 4D-STEM virtual image (real plane)\n",
    "- specify a pair of identical fiducial points on both images\n",
    "- compute the rotational misalignment of the real and diffraction planes\n",
    "- store the misalignment in Coordinates"
   ]
  },
  {
   "cell_type": "code",
   "execution_count": null,
   "metadata": {},
   "outputs": [],
   "source": [
    "# Show the shadow image\n",
    "py4DSTEM.visualize.show(defocused_probe,figsize=(6,6))\n",
    "py4DSTEM.visualize.show(BF_rotation,figsize=(6,6))"
   ]
  },
  {
   "cell_type": "code",
   "execution_count": null,
   "metadata": {},
   "outputs": [],
   "source": [
    "# Pick two fiducial points, locate them on each image\n",
    "cbed_p1 = (154,204)\n",
    "cbed_p2 = (212,401)\n",
    "stem_p1 = (59,16.5)\n",
    "stem_p2 = (15,37)\n",
    "\n",
    "fig,(ax1,ax2) = plt.subplots(1,2,figsize=(12,6))\n",
    "ax1.matshow(defocused_probe,cmap='gray')\n",
    "ax2.matshow(BF_rotation,cmap='gray')\n",
    "ax1.plot((cbed_p1[1],cbed_p2[1]),(cbed_p1[0],cbed_p2[0]),color='y')\n",
    "ax1.scatter((cbed_p1[1],cbed_p2[1]),(cbed_p1[0],cbed_p2[0]),color=('r','b'))\n",
    "ax2.plot((stem_p1[1],stem_p2[1]),(stem_p1[0],stem_p2[0]),color='y')\n",
    "ax2.scatter((stem_p1[1],stem_p2[1]),(stem_p1[0],stem_p2[0]),color=('r','b'))\n",
    "ax1.grid(True)\n",
    "ax2.grid(True)\n",
    "plt.show()"
   ]
  },
  {
   "cell_type": "code",
   "execution_count": null,
   "metadata": {},
   "outputs": [],
   "source": [
    "# Measure the rotational offset\n",
    "stem_angle = np.angle(stem_p2[0]+1j*stem_p2[1] - stem_p1[0]-1j*stem_p1[1])%(2*np.pi)\n",
    "cbed_angle = np.angle(cbed_p2[0]+1j*cbed_p2[1] - cbed_p1[0]-1j*cbed_p1[1])%(2*np.pi)\n",
    "QR_rotation = stem_angle-cbed_angle\n",
    "print(\"Real space is rotated {} degrees counterclockwise with respect to diffraction space.\".format(np.degrees(QR_rotation)))"
   ]
  },
  {
   "cell_type": "code",
   "execution_count": null,
   "metadata": {},
   "outputs": [],
   "source": [
    "coordinates.set_QR_rotation(QR_rotation)\n",
    "coordinates.set_QR_flip(False)"
   ]
  },
  {
   "cell_type": "markdown",
   "metadata": {},
   "source": [
    "## Save\n",
    "\n",
    "Here we save everything we'll need for strain mapping in a new .h5 file.  We:\n",
    "- set a filepath\n",
    "- convert the probe template into a format py4DSTEM knows how to save\n",
    "- save the Coordinates and probe template"
   ]
  },
  {
   "cell_type": "code",
   "execution_count": null,
   "metadata": {},
   "outputs": [],
   "source": [
    "filepath_output = \"/media/AuxDriveB/Data/4DSTEM_SampleData/py4DSTEM_sample_data/calibrationData_simulatedAuNanoplatelet_binned_processing.h5\""
   ]
  },
  {
   "cell_type": "code",
   "execution_count": null,
   "metadata": {},
   "outputs": [],
   "source": [
    "# Generate DataObjects of the probe and BF image\n",
    "probe = py4DSTEM.io.DiffractionSlice(data=np.dstack([probe_template,probe_kernel]),\n",
    "                                     slicelabels=['probe_template','probe_kernel'],\n",
    "                                     name='probe')"
   ]
  },
  {
   "cell_type": "code",
   "execution_count": null,
   "metadata": {},
   "outputs": [],
   "source": [
    "# Save\n",
    "py4DSTEM.io.save(filepath_output,\n",
    "                 data=[coordinates,\n",
    "                       probe],\n",
    "                 overwrite=True)"
   ]
  },
  {
   "cell_type": "code",
   "execution_count": null,
   "metadata": {},
   "outputs": [],
   "source": []
  },
  {
   "cell_type": "code",
   "execution_count": null,
   "metadata": {},
   "outputs": [],
   "source": []
  },
  {
   "cell_type": "code",
   "execution_count": null,
   "metadata": {},
   "outputs": [],
   "source": []
  }
 ],
 "metadata": {
  "kernelspec": {
   "display_name": "Python 3",
   "language": "python",
   "name": "python3"
  },
  "language_info": {
   "codemirror_mode": {
    "name": "ipython",
    "version": 3
   },
   "file_extension": ".py",
   "mimetype": "text/x-python",
   "name": "python",
   "nbconvert_exporter": "python",
   "pygments_lexer": "ipython3",
   "version": "3.8.5"
  },
  "toc": {
   "base_numbering": 1,
   "nav_menu": {},
   "number_sections": true,
   "sideBar": true,
   "skip_h1_title": false,
   "title_cell": "Table of Contents",
   "title_sidebar": "Contents",
   "toc_cell": true,
   "toc_position": {},
   "toc_section_display": true,
   "toc_window_display": false
  },
  "varInspector": {
   "cols": {
    "lenName": 16,
    "lenType": 16,
    "lenVar": 40
   },
   "kernels_config": {
    "python": {
     "delete_cmd_postfix": "",
     "delete_cmd_prefix": "del ",
     "library": "var_list.py",
     "varRefreshCmd": "print(var_dic_list())"
    },
    "r": {
     "delete_cmd_postfix": ") ",
     "delete_cmd_prefix": "rm(",
     "library": "var_list.r",
     "varRefreshCmd": "cat(var_dic_list()) "
    }
   },
   "types_to_exclude": [
    "module",
    "function",
    "builtin_function_or_method",
    "instance",
    "_Feature"
   ],
   "window_display": false
  }
 },
 "nbformat": 4,
 "nbformat_minor": 4
}
